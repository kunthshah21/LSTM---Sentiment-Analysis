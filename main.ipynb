{
 "cells": [
  {
   "cell_type": "markdown",
   "id": "319b1b9f",
   "metadata": {},
   "source": [
    "# Import and Setup"
   ]
  },
  {
   "cell_type": "code",
   "execution_count": 1,
   "id": "503da4c6-8c0c-4ef8-bc96-016911392e3f",
   "metadata": {
    "tags": []
   },
   "outputs": [],
   "source": [
    "import numpy as np \n",
    "import pandas as pd # data processing, CSV file I/O (e.g. pd.read_csv)\n",
    "import warnings\n",
    "warnings.filterwarnings(\"ignore\") \n",
    "import matplotlib.pyplot as plt\n",
    "import seaborn as sns"
   ]
  },
  {
   "cell_type": "code",
   "execution_count": 2,
   "id": "bfd85f33-807a-4506-9121-26c19e4fdd8c",
   "metadata": {},
   "outputs": [
    {
     "data": {
      "text/html": [
       "<div>\n",
       "<style scoped>\n",
       "    .dataframe tbody tr th:only-of-type {\n",
       "        vertical-align: middle;\n",
       "    }\n",
       "\n",
       "    .dataframe tbody tr th {\n",
       "        vertical-align: top;\n",
       "    }\n",
       "\n",
       "    .dataframe thead th {\n",
       "        text-align: right;\n",
       "    }\n",
       "</style>\n",
       "<table border=\"1\" class=\"dataframe\">\n",
       "  <thead>\n",
       "    <tr style=\"text-align: right;\">\n",
       "      <th></th>\n",
       "      <th>tweet_id</th>\n",
       "      <th>sentiment</th>\n",
       "      <th>content</th>\n",
       "    </tr>\n",
       "  </thead>\n",
       "  <tbody>\n",
       "    <tr>\n",
       "      <th>0</th>\n",
       "      <td>1956967341</td>\n",
       "      <td>empty</td>\n",
       "      <td>@tiffanylue i know  i was listenin to bad habi...</td>\n",
       "    </tr>\n",
       "    <tr>\n",
       "      <th>1</th>\n",
       "      <td>1956967666</td>\n",
       "      <td>sadness</td>\n",
       "      <td>Layin n bed with a headache  ughhhh...waitin o...</td>\n",
       "    </tr>\n",
       "    <tr>\n",
       "      <th>2</th>\n",
       "      <td>1956967696</td>\n",
       "      <td>sadness</td>\n",
       "      <td>Funeral ceremony...gloomy friday...</td>\n",
       "    </tr>\n",
       "    <tr>\n",
       "      <th>3</th>\n",
       "      <td>1956967789</td>\n",
       "      <td>enthusiasm</td>\n",
       "      <td>wants to hang out with friends SOON!</td>\n",
       "    </tr>\n",
       "    <tr>\n",
       "      <th>4</th>\n",
       "      <td>1956968416</td>\n",
       "      <td>neutral</td>\n",
       "      <td>@dannycastillo We want to trade with someone w...</td>\n",
       "    </tr>\n",
       "  </tbody>\n",
       "</table>\n",
       "</div>"
      ],
      "text/plain": [
       "     tweet_id   sentiment                                            content\n",
       "0  1956967341       empty  @tiffanylue i know  i was listenin to bad habi...\n",
       "1  1956967666     sadness  Layin n bed with a headache  ughhhh...waitin o...\n",
       "2  1956967696     sadness                Funeral ceremony...gloomy friday...\n",
       "3  1956967789  enthusiasm               wants to hang out with friends SOON!\n",
       "4  1956968416     neutral  @dannycastillo We want to trade with someone w..."
      ]
     },
     "execution_count": 2,
     "metadata": {},
     "output_type": "execute_result"
    }
   ],
   "source": [
    "data = pd.read_csv('dataset/tweet_emotions.csv')\n",
    "data.head()"
   ]
  },
  {
   "cell_type": "markdown",
   "id": "ccc9f09e",
   "metadata": {},
   "source": [
    "# EDA"
   ]
  },
  {
   "cell_type": "markdown",
   "id": "0807a485",
   "metadata": {},
   "source": [
    "### Removing ID, duplicate and Null Values"
   ]
  },
  {
   "cell_type": "code",
   "execution_count": 3,
   "id": "2600622e",
   "metadata": {},
   "outputs": [
    {
     "name": "stdout",
     "output_type": "stream",
     "text": [
      "<class 'pandas.core.frame.DataFrame'>\n",
      "RangeIndex: 40000 entries, 0 to 39999\n",
      "Data columns (total 3 columns):\n",
      " #   Column     Non-Null Count  Dtype \n",
      "---  ------     --------------  ----- \n",
      " 0   tweet_id   40000 non-null  int64 \n",
      " 1   sentiment  40000 non-null  object\n",
      " 2   content    40000 non-null  object\n",
      "dtypes: int64(1), object(2)\n",
      "memory usage: 937.6+ KB\n"
     ]
    }
   ],
   "source": [
    "#If there is any null value throughout the row, remove it.\n",
    "data = data.dropna()\n",
    "data = data.reset_index(drop=True)\n",
    "data.info() "
   ]
  },
  {
   "cell_type": "markdown",
   "id": "ef618d1c",
   "metadata": {},
   "source": [
    "It was noticed that there are no null values present, therefore no values were dropped"
   ]
  },
  {
   "cell_type": "code",
   "execution_count": 4,
   "id": "1cb349a6",
   "metadata": {},
   "outputs": [
    {
     "data": {
      "text/html": [
       "<div>\n",
       "<style scoped>\n",
       "    .dataframe tbody tr th:only-of-type {\n",
       "        vertical-align: middle;\n",
       "    }\n",
       "\n",
       "    .dataframe tbody tr th {\n",
       "        vertical-align: top;\n",
       "    }\n",
       "\n",
       "    .dataframe thead th {\n",
       "        text-align: right;\n",
       "    }\n",
       "</style>\n",
       "<table border=\"1\" class=\"dataframe\">\n",
       "  <thead>\n",
       "    <tr style=\"text-align: right;\">\n",
       "      <th></th>\n",
       "      <th>sentiment</th>\n",
       "      <th>content</th>\n",
       "    </tr>\n",
       "  </thead>\n",
       "  <tbody>\n",
       "    <tr>\n",
       "      <th>0</th>\n",
       "      <td>empty</td>\n",
       "      <td>@tiffanylue i know  i was listenin to bad habi...</td>\n",
       "    </tr>\n",
       "    <tr>\n",
       "      <th>1</th>\n",
       "      <td>sadness</td>\n",
       "      <td>Layin n bed with a headache  ughhhh...waitin o...</td>\n",
       "    </tr>\n",
       "    <tr>\n",
       "      <th>2</th>\n",
       "      <td>sadness</td>\n",
       "      <td>Funeral ceremony...gloomy friday...</td>\n",
       "    </tr>\n",
       "    <tr>\n",
       "      <th>3</th>\n",
       "      <td>enthusiasm</td>\n",
       "      <td>wants to hang out with friends SOON!</td>\n",
       "    </tr>\n",
       "    <tr>\n",
       "      <th>4</th>\n",
       "      <td>neutral</td>\n",
       "      <td>@dannycastillo We want to trade with someone w...</td>\n",
       "    </tr>\n",
       "  </tbody>\n",
       "</table>\n",
       "</div>"
      ],
      "text/plain": [
       "    sentiment                                            content\n",
       "0       empty  @tiffanylue i know  i was listenin to bad habi...\n",
       "1     sadness  Layin n bed with a headache  ughhhh...waitin o...\n",
       "2     sadness                Funeral ceremony...gloomy friday...\n",
       "3  enthusiasm               wants to hang out with friends SOON!\n",
       "4     neutral  @dannycastillo We want to trade with someone w..."
      ]
     },
     "execution_count": 4,
     "metadata": {},
     "output_type": "execute_result"
    }
   ],
   "source": [
    "# Remove the id column\n",
    "data = data.drop(['tweet_id'], axis=1)\n",
    "data.head()"
   ]
  },
  {
   "cell_type": "code",
   "execution_count": 5,
   "id": "b10b1446",
   "metadata": {},
   "outputs": [
    {
     "name": "stdout",
     "output_type": "stream",
     "text": [
      "Number of duplicate rows before removing:  91\n",
      "Number of duplicate rows after removing:  0\n"
     ]
    }
   ],
   "source": [
    "# Remove duplciate rows if they have the same \"content\" value. Also print the number of removed rows.\n",
    "print(\"Number of duplicate rows before removing: \", data.duplicated().sum())\n",
    "data = data.drop_duplicates(subset='content')\n",
    "data = data.reset_index(drop=True)\n",
    "print(\"Number of duplicate rows after removing: \", data.duplicated().sum())"
   ]
  },
  {
   "cell_type": "markdown",
   "id": "8f04f4dc",
   "metadata": {},
   "source": [
    "### Cleaning Text"
   ]
  },
  {
   "cell_type": "code",
   "execution_count": 6,
   "id": "19fb3ac7",
   "metadata": {},
   "outputs": [
    {
     "name": "stdout",
     "output_type": "stream",
     "text": [
      "    sentiment                                            content\n",
      "0       empty  tiffanylue i know i was listenin to bad habit ...\n",
      "1     sadness  Layin n bed with a headache ughhhh waitin on y...\n",
      "2     sadness                     Funeral ceremony gloomy friday\n",
      "3  enthusiasm                wants to hang out with friends SOON\n",
      "4     neutral  dannycastillo We want to trade with someone wh...\n"
     ]
    }
   ],
   "source": [
    "import re\n",
    "\n",
    "# Function to clean text\n",
    "def clean_text(text):\n",
    "    text = re.sub(r'http\\S+|www\\S+|https\\S+', '', text, flags=re.MULTILINE)\n",
    "    text = re.sub(r'\\W', ' ', text)\n",
    "    #remove any @mentions\n",
    "    text = re.sub(r'@\\w+', '', text)\n",
    "    #remove # from #hashtags\n",
    "    text = re.sub(r'#', '', text)\n",
    "    #remove any non-ascii characters\n",
    "    text = re.sub(r'[^\\x00-\\x7F]+', '', text)\n",
    "    #remove any digits\n",
    "    text = re.sub(r'\\d', '', text)\n",
    "    \n",
    "    \n",
    "    #Fix double or multiple spacing cause from removal\n",
    "    text = re.sub(r'\\s+', ' ', text)\n",
    "    #Remove any leading or trailing spaces\n",
    "    text = re.sub(r'^\\s+|\\s+?$', '', text)\n",
    "    return text\n",
    "\n",
    "# Apply the function to the \"content\" column\n",
    "data['content'] = data['content'].apply(clean_text)\n",
    "\n",
    "# Display the cleaned data\n",
    "print(data.head())\n"
   ]
  },
  {
   "cell_type": "markdown",
   "id": "ead12d56",
   "metadata": {},
   "source": [
    "Saving the cleaned data to a new file"
   ]
  },
  {
   "cell_type": "code",
   "execution_count": 7,
   "id": "6e689193",
   "metadata": {},
   "outputs": [],
   "source": [
    "data.to_csv('dataset/cleaned_tweet_emotions.csv', index=False)"
   ]
  },
  {
   "cell_type": "code",
   "execution_count": 8,
   "id": "9eadeeb4",
   "metadata": {},
   "outputs": [
    {
     "data": {
      "text/html": [
       "<div>\n",
       "<style scoped>\n",
       "    .dataframe tbody tr th:only-of-type {\n",
       "        vertical-align: middle;\n",
       "    }\n",
       "\n",
       "    .dataframe tbody tr th {\n",
       "        vertical-align: top;\n",
       "    }\n",
       "\n",
       "    .dataframe thead th {\n",
       "        text-align: right;\n",
       "    }\n",
       "</style>\n",
       "<table border=\"1\" class=\"dataframe\">\n",
       "  <thead>\n",
       "    <tr style=\"text-align: right;\">\n",
       "      <th></th>\n",
       "      <th>sentiment</th>\n",
       "      <th>content</th>\n",
       "    </tr>\n",
       "  </thead>\n",
       "  <tbody>\n",
       "    <tr>\n",
       "      <th>0</th>\n",
       "      <td>empty</td>\n",
       "      <td>tiffanylue i know i was listenin to bad habit ...</td>\n",
       "    </tr>\n",
       "    <tr>\n",
       "      <th>1</th>\n",
       "      <td>sadness</td>\n",
       "      <td>Layin n bed with a headache ughhhh waitin on y...</td>\n",
       "    </tr>\n",
       "    <tr>\n",
       "      <th>2</th>\n",
       "      <td>sadness</td>\n",
       "      <td>Funeral ceremony gloomy friday</td>\n",
       "    </tr>\n",
       "    <tr>\n",
       "      <th>3</th>\n",
       "      <td>enthusiasm</td>\n",
       "      <td>wants to hang out with friends SOON</td>\n",
       "    </tr>\n",
       "    <tr>\n",
       "      <th>4</th>\n",
       "      <td>neutral</td>\n",
       "      <td>dannycastillo We want to trade with someone wh...</td>\n",
       "    </tr>\n",
       "  </tbody>\n",
       "</table>\n",
       "</div>"
      ],
      "text/plain": [
       "    sentiment                                            content\n",
       "0       empty  tiffanylue i know i was listenin to bad habit ...\n",
       "1     sadness  Layin n bed with a headache ughhhh waitin on y...\n",
       "2     sadness                     Funeral ceremony gloomy friday\n",
       "3  enthusiasm                wants to hang out with friends SOON\n",
       "4     neutral  dannycastillo We want to trade with someone wh..."
      ]
     },
     "execution_count": 8,
     "metadata": {},
     "output_type": "execute_result"
    }
   ],
   "source": [
    "df = pd.read_csv('dataset/cleaned_tweet_emotions.csv')\n",
    "df.head()"
   ]
  },
  {
   "cell_type": "code",
   "execution_count": 9,
   "id": "324b571d",
   "metadata": {},
   "outputs": [
    {
     "name": "stdout",
     "output_type": "stream",
     "text": [
      "(39827, 2)\n"
     ]
    },
    {
     "data": {
      "text/plain": [
       "sentiment    0\n",
       "content      0\n",
       "dtype: int64"
      ]
     },
     "execution_count": 9,
     "metadata": {},
     "output_type": "execute_result"
    }
   ],
   "source": [
    "print(df.shape)\n",
    "df = df.dropna()\n",
    "df.isnull().sum()"
   ]
  },
  {
   "cell_type": "code",
   "execution_count": 10,
   "id": "e5dddece",
   "metadata": {},
   "outputs": [
    {
     "name": "stdout",
     "output_type": "stream",
     "text": [
      "    sentiment                                            content  \\\n",
      "0       empty  tiffanylue i know i was listenin to bad habit ...   \n",
      "1     sadness  Layin n bed with a headache ughhhh waitin on y...   \n",
      "2     sadness                     Funeral ceremony gloomy friday   \n",
      "3  enthusiasm                wants to hang out with friends SOON   \n",
      "4     neutral  dannycastillo We want to trade with someone wh...   \n",
      "\n",
      "                                           embedding  \n",
      "0  [-0.009687531020362074, -0.11519767683321691, ...  \n",
      "1  [0.02141141140250999, -0.05418356123417788, -0...  \n",
      "2  [-0.042901569450643766, -0.05677819936404877, ...  \n",
      "3  [0.03292089124552941, 0.22727344006666284, 0.1...  \n",
      "4  [0.08450802176830757, 0.374923210176829, 0.003...  \n"
     ]
    }
   ],
   "source": [
    "import numpy as np\n",
    "from tqdm import tqdm\n",
    "from sklearn.feature_extraction.text import TfidfVectorizer\n",
    "from keras.preprocessing.sequence import pad_sequences\n",
    "\n",
    "# Load Pre-trained GloVe Embeddings (200d)\n",
    "def load_glove_embeddings(filepath):\n",
    "    glove_dict = {}\n",
    "    with open(filepath, 'r', encoding='utf-8') as f:\n",
    "        for line in f:\n",
    "            values = line.split()\n",
    "            word = values[0]\n",
    "            vector = np.asarray(values[1:], dtype='float32')\n",
    "            glove_dict[word] = vector\n",
    "    return glove_dict\n",
    "\n",
    "# Convert tweets to TF-IDF weighted GloVe embeddings\n",
    "def get_tweet_embedding(tweet, glove_dict, tfidf, feature_names):\n",
    "    words = tweet.split()\n",
    "    tweet_vector = np.zeros(200)  # GloVe 200d\n",
    "    word_count = 0\n",
    "\n",
    "    for word in words:\n",
    "        if word in glove_dict and word in feature_names:\n",
    "            weight = tfidf.get(word, 1)  # Default to 1 if word not in TF-IDF dict\n",
    "            tweet_vector += weight * glove_dict[word]\n",
    "            word_count += weight\n",
    "\n",
    "    return tweet_vector / word_count if word_count != 0 else tweet_vector\n",
    "\n",
    "# Load GloVe Embeddings\n",
    "glove_path = \"glove.twitter.27B.200d.txt\"\n",
    "glove_embeddings = load_glove_embeddings(glove_path)\n",
    "\n",
    "# TF-IDF Vectorizer (Fitted on Your Dataset)\n",
    "tfidf_vectorizer = TfidfVectorizer(max_features=5000)\n",
    "tfidf_vectorizer.fit(df['content'])\n",
    "feature_names = set(tfidf_vectorizer.get_feature_names_out())\n",
    "\n",
    "# Get TF-IDF Scores\n",
    "idf_scores = dict(zip(tfidf_vectorizer.get_feature_names_out(), tfidf_vectorizer.idf_))\n",
    "\n",
    "# Convert Tweets to GloVe Embeddings\n",
    "df['embedding'] = df['content'].apply(lambda x: get_tweet_embedding(x, glove_embeddings, idf_scores, feature_names))\n",
    "\n",
    "# Check the output\n",
    "print(df.head())"
   ]
  },
  {
   "cell_type": "code",
   "execution_count": 28,
   "id": "c11212f4",
   "metadata": {},
   "outputs": [
    {
     "name": "stdout",
     "output_type": "stream",
     "text": [
      "(39826, 3)\n",
      "sentiment    object\n",
      "content      object\n",
      "embedding    object\n",
      "dtype: object\n"
     ]
    }
   ],
   "source": [
    "print(df.shape)\n",
    "print(df.dtypes)"
   ]
  },
  {
   "cell_type": "code",
   "execution_count": 13,
   "id": "3f909fd6",
   "metadata": {},
   "outputs": [],
   "source": [
    "#Save the new data frame with the embeddings to a new csv file\n",
    "df.to_csv('dataset/embedded_tweet_emotions.csv', index=False)"
   ]
  },
  {
   "cell_type": "code",
   "execution_count": 14,
   "id": "06ea0cbc",
   "metadata": {},
   "outputs": [
    {
     "data": {
      "text/html": [
       "<div>\n",
       "<style scoped>\n",
       "    .dataframe tbody tr th:only-of-type {\n",
       "        vertical-align: middle;\n",
       "    }\n",
       "\n",
       "    .dataframe tbody tr th {\n",
       "        vertical-align: top;\n",
       "    }\n",
       "\n",
       "    .dataframe thead th {\n",
       "        text-align: right;\n",
       "    }\n",
       "</style>\n",
       "<table border=\"1\" class=\"dataframe\">\n",
       "  <thead>\n",
       "    <tr style=\"text-align: right;\">\n",
       "      <th></th>\n",
       "      <th>sentiment</th>\n",
       "      <th>content</th>\n",
       "      <th>embedding</th>\n",
       "    </tr>\n",
       "  </thead>\n",
       "  <tbody>\n",
       "    <tr>\n",
       "      <th>0</th>\n",
       "      <td>empty</td>\n",
       "      <td>tiffanylue i know i was listenin to bad habit ...</td>\n",
       "      <td>[-9.68753102e-03 -1.15197677e-01  1.60114471e-...</td>\n",
       "    </tr>\n",
       "    <tr>\n",
       "      <th>1</th>\n",
       "      <td>sadness</td>\n",
       "      <td>Layin n bed with a headache ughhhh waitin on y...</td>\n",
       "      <td>[ 2.14114114e-02 -5.41835612e-02 -4.90891329e-...</td>\n",
       "    </tr>\n",
       "    <tr>\n",
       "      <th>2</th>\n",
       "      <td>sadness</td>\n",
       "      <td>Funeral ceremony gloomy friday</td>\n",
       "      <td>[-4.29015695e-02 -5.67781994e-02  6.10557315e-...</td>\n",
       "    </tr>\n",
       "    <tr>\n",
       "      <th>3</th>\n",
       "      <td>enthusiasm</td>\n",
       "      <td>wants to hang out with friends SOON</td>\n",
       "      <td>[ 3.29208912e-02  2.27273440e-01  1.04936072e-...</td>\n",
       "    </tr>\n",
       "    <tr>\n",
       "      <th>4</th>\n",
       "      <td>neutral</td>\n",
       "      <td>dannycastillo We want to trade with someone wh...</td>\n",
       "      <td>[ 8.45080218e-02  3.74923210e-01  3.75330375e-...</td>\n",
       "    </tr>\n",
       "  </tbody>\n",
       "</table>\n",
       "</div>"
      ],
      "text/plain": [
       "    sentiment                                            content  \\\n",
       "0       empty  tiffanylue i know i was listenin to bad habit ...   \n",
       "1     sadness  Layin n bed with a headache ughhhh waitin on y...   \n",
       "2     sadness                     Funeral ceremony gloomy friday   \n",
       "3  enthusiasm                wants to hang out with friends SOON   \n",
       "4     neutral  dannycastillo We want to trade with someone wh...   \n",
       "\n",
       "                                           embedding  \n",
       "0  [-9.68753102e-03 -1.15197677e-01  1.60114471e-...  \n",
       "1  [ 2.14114114e-02 -5.41835612e-02 -4.90891329e-...  \n",
       "2  [-4.29015695e-02 -5.67781994e-02  6.10557315e-...  \n",
       "3  [ 3.29208912e-02  2.27273440e-01  1.04936072e-...  \n",
       "4  [ 8.45080218e-02  3.74923210e-01  3.75330375e-...  "
      ]
     },
     "execution_count": 14,
     "metadata": {},
     "output_type": "execute_result"
    }
   ],
   "source": [
    "df = pd.read_csv('dataset/embedded_tweet_emotions.csv')\n",
    "df.head()"
   ]
  },
  {
   "cell_type": "code",
   "execution_count": 15,
   "id": "576ecc86",
   "metadata": {},
   "outputs": [
    {
     "name": "stdout",
     "output_type": "stream",
     "text": [
      "Train set size: 27878\n",
      "Validation set size: 7965\n",
      "Test set size: 3983\n"
     ]
    }
   ],
   "source": [
    "import pandas as pd\n",
    "from sklearn.model_selection import train_test_split\n",
    "\n",
    "# Split the dataset into train (70%) and temp (30%)\n",
    "train_df, temp_df = train_test_split(df, test_size=0.3, random_state=42)\n",
    "\n",
    "# Split the temp dataset into validation (20% of original) and test (10% of original)\n",
    "val_df, test_df = train_test_split(temp_df, test_size=1/3, random_state=42)\n",
    "\n",
    "# Print the sizes of the splits to verify\n",
    "print(f\"Train set size: {len(train_df)}\")\n",
    "print(f\"Validation set size: {len(val_df)}\")\n",
    "print(f\"Test set size: {len(test_df)}\")"
   ]
  },
  {
   "cell_type": "code",
   "execution_count": 16,
   "id": "c90893a4",
   "metadata": {},
   "outputs": [
    {
     "data": {
      "text/plain": [
       "(27878, 3)"
      ]
     },
     "execution_count": 16,
     "metadata": {},
     "output_type": "execute_result"
    }
   ],
   "source": [
    "train_df.shape"
   ]
  },
  {
   "cell_type": "code",
   "execution_count": null,
   "id": "2d62fa38",
   "metadata": {},
   "outputs": [],
   "source": []
  }
 ],
 "metadata": {
  "kernelspec": {
   "display_name": "venv",
   "language": "python",
   "name": "python3"
  },
  "language_info": {
   "codemirror_mode": {
    "name": "ipython",
    "version": 3
   },
   "file_extension": ".py",
   "mimetype": "text/x-python",
   "name": "python",
   "nbconvert_exporter": "python",
   "pygments_lexer": "ipython3",
   "version": "3.9.6"
  }
 },
 "nbformat": 4,
 "nbformat_minor": 5
}
